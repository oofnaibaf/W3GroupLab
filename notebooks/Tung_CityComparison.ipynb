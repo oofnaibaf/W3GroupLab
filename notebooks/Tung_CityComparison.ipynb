{
 "cells": [
  {
   "cell_type": "code",
   "execution_count": 1,
   "id": "96dacf6a-3fd7-4231-a7ea-8b57f0a4a9af",
   "metadata": {},
   "outputs": [],
   "source": [
    "import pandas as pd\n",
    "import seaborn as sns\n",
    "import matplotlib.pyplot as plt\n",
    "import plotly.express as px  # For Plotly Express, which is easy-to-use for quick visualizations\n",
    "import plotly.graph_objects as go "
   ]
  },
  {
   "cell_type": "code",
   "execution_count": null,
   "id": "5ab2dafb-89b8-4145-8dc1-c8609eb8782b",
   "metadata": {},
   "outputs": [],
   "source": [
    "import seaborn as sns\n",
    "import matplotlib.pyplot as plt\n",
    "from plotly.subplots import make_subplots  # Correct import for make_subplots"
   "execution_count": 2,
   "id": "d3761ad2-31af-4669-ad03-8b46a6ea68be",
   "metadata": {},
   "outputs": [
    {
     "data": {
      "text/html": [
       "<div>\n",
       "<style scoped>\n",
       "    .dataframe tbody tr th:only-of-type {\n",
       "        vertical-align: middle;\n",
       "    }\n",
       "\n",
       "    .dataframe tbody tr th {\n",
       "        vertical-align: top;\n",
       "    }\n",
       "\n",
       "    .dataframe thead th {\n",
       "        text-align: right;\n",
       "    }\n",
       "</style>\n",
       "<table border=\"1\" class=\"dataframe\">\n",
       "  <thead>\n",
       "    <tr style=\"text-align: right;\">\n",
       "      <th></th>\n",
       "      <th>Country</th>\n",
       "      <th>2019</th>\n",
       "      <th>2020</th>\n",
       "      <th>2021</th>\n",
       "      <th>2022</th>\n",
       "      <th>2023</th>\n",
       "    </tr>\n",
       "  </thead>\n",
       "  <tbody>\n",
       "    <tr>\n",
       "      <th>Housing</th>\n",
       "      <td>DE</td>\n",
       "      <td>128.70</td>\n",
       "      <td>138.70</td>\n",
       "      <td>154.80</td>\n",
       "      <td>162.60</td>\n",
       "      <td>148.80</td>\n",
       "    </tr>\n",
       "    <tr>\n",
       "      <th>Housing</th>\n",
       "      <td>FR</td>\n",
       "      <td>110.86</td>\n",
       "      <td>116.62</td>\n",
       "      <td>123.98</td>\n",
       "      <td>131.82</td>\n",
       "      <td>131.26</td>\n",
       "    </tr>\n",
       "    <tr>\n",
       "      <th>Housing</th>\n",
       "      <td>PT</td>\n",
       "      <td>141.88</td>\n",
       "      <td>154.33</td>\n",
       "      <td>168.84</td>\n",
       "      <td>190.17</td>\n",
       "      <td>205.76</td>\n",
       "    </tr>\n",
       "    <tr>\n",
       "      <th>Rental</th>\n",
       "      <td>DE</td>\n",
       "      <td>100.67</td>\n",
       "      <td>101.06</td>\n",
       "      <td>101.92</td>\n",
       "      <td>102.60</td>\n",
       "      <td>104.78</td>\n",
       "    </tr>\n",
       "    <tr>\n",
       "      <th>Rental</th>\n",
       "      <td>FR</td>\n",
       "      <td>107.97</td>\n",
       "      <td>110.76</td>\n",
       "      <td>101.92</td>\n",
       "      <td>115.79</td>\n",
       "      <td>121.05</td>\n",
       "    </tr>\n",
       "    <tr>\n",
       "      <th>Rental</th>\n",
       "      <td>PT</td>\n",
       "      <td>106.10</td>\n",
       "      <td>107.60</td>\n",
       "      <td>109.00</td>\n",
       "      <td>110.80</td>\n",
       "      <td>113.10</td>\n",
       "    </tr>\n",
       "    <tr>\n",
       "      <th>Income</th>\n",
       "      <td>DE</td>\n",
       "      <td>26105.00</td>\n",
       "      <td>29896.00</td>\n",
       "      <td>29106.00</td>\n",
       "      <td>28569.00</td>\n",
       "      <td>30308.00</td>\n",
       "    </tr>\n",
       "    <tr>\n",
       "      <th>Income</th>\n",
       "      <td>FR</td>\n",
       "      <td>26210.00</td>\n",
       "      <td>25382.00</td>\n",
       "      <td>26075.00</td>\n",
       "      <td>26419.00</td>\n",
       "      <td>27577.00</td>\n",
       "    </tr>\n",
       "    <tr>\n",
       "      <th>Income</th>\n",
       "      <td>PT</td>\n",
       "      <td>11786.00</td>\n",
       "      <td>12696.00</td>\n",
       "      <td>13113.00</td>\n",
       "      <td>13148.00</td>\n",
       "      <td>14368.00</td>\n",
       "    </tr>\n",
       "  </tbody>\n",
       "</table>\n",
       "</div>"
      ],
      "text/plain": [
       "        Country      2019      2020      2021      2022      2023\n",
       "Housing      DE    128.70    138.70    154.80    162.60    148.80\n",
       "Housing      FR    110.86    116.62    123.98    131.82    131.26\n",
       "Housing      PT    141.88    154.33    168.84    190.17    205.76\n",
       "Rental       DE    100.67    101.06    101.92    102.60    104.78\n",
       "Rental       FR    107.97    110.76    101.92    115.79    121.05\n",
       "Rental       PT    106.10    107.60    109.00    110.80    113.10\n",
       "Income       DE  26105.00  29896.00  29106.00  28569.00  30308.00\n",
       "Income       FR  26210.00  25382.00  26075.00  26419.00  27577.00\n",
       "Income       PT  11786.00  12696.00  13113.00  13148.00  14368.00"
      ]
     },
     "execution_count": 2,
     "metadata": {},
     "output_type": "execute_result"
    }
   ],
   "source": [
    "from functions import concatenate_eurostat_countries, cleaning_eurostat_data_for_viz, clean_countries_numbeo, clean_cities\n",
    "eurostat_df = concatenate_eurostat_countries()\n",
    "\n",
    "\n",
    "eurostat_df"
   ]
  },
  {
   "cell_type": "code",
   "execution_count": null,
   "id": "9667b6c1-3777-41f8-affa-7576e8f63f39",
   "metadata": {},
   "outputs": [],
   "source": [
    "apt_buying = pd.read_excel(\"../data/raw/Apartment_buying_cost_over_time.xlsx\", sheet_name = 1)\n",
   "execution_count": 28,
   "id": "7d640536-edcc-442f-9cb9-457284122a8f",
   "metadata": {},
   "outputs": [
    {
     "name": "stderr",
     "output_type": "stream",
     "text": [
      "C:\\Users\\manht\\AppData\\Local\\Temp\\ipykernel_16472\\707356763.py:11: FutureWarning: DataFrame.fillna with 'method' is deprecated and will raise in a future version. Use obj.ffill() or obj.bfill() instead.\n",
      "  monthly_salary.fillna(method='ffill', inplace=True)\n"
     ]
    },
    {
     "data": {
      "text/html": [
       "<div>\n",
       "<style scoped>\n",
       "    .dataframe tbody tr th:only-of-type {\n",
       "        vertical-align: middle;\n",
       "    }\n",
       "\n",
       "    .dataframe tbody tr th {\n",
       "        vertical-align: top;\n",
       "    }\n",
       "\n",
       "    .dataframe thead th {\n",
       "        text-align: right;\n",
       "    }\n",
       "</style>\n",
       "<table border=\"1\" class=\"dataframe\">\n",
       "  <thead>\n",
       "    <tr style=\"text-align: right;\">\n",
       "      <th></th>\n",
       "      <th>city</th>\n",
       "      <th>2019</th>\n",
       "      <th>2020</th>\n",
       "      <th>2021</th>\n",
       "      <th>2022</th>\n",
       "      <th>2023</th>\n",
       "      <th>2024</th>\n",
       "    </tr>\n",
       "  </thead>\n",
       "  <tbody>\n",
       "    <tr>\n",
       "      <th>0</th>\n",
       "      <td>Lisbon 1br</td>\n",
       "      <td>940.91</td>\n",
       "      <td>958.12</td>\n",
       "      <td>1054.79</td>\n",
       "      <td>1321.22</td>\n",
       "      <td>1137.77</td>\n",
       "      <td>1295.57</td>\n",
       "    </tr>\n",
       "    <tr>\n",
       "      <th>1</th>\n",
       "      <td>Berlin 1br</td>\n",
       "      <td>1522.45</td>\n",
       "      <td>1472.30</td>\n",
       "      <td>1689.52</td>\n",
       "      <td>2071.55</td>\n",
       "      <td>2003.01</td>\n",
       "      <td>1937.36</td>\n",
       "    </tr>\n",
       "    <tr>\n",
       "      <th>2</th>\n",
       "      <td>Paris 1 br</td>\n",
       "      <td>1918.05</td>\n",
       "      <td>2032.62</td>\n",
       "      <td>2086.78</td>\n",
       "      <td>2076.73</td>\n",
       "      <td>1974.07</td>\n",
       "      <td>2055.01</td>\n",
       "    </tr>\n",
       "  </tbody>\n",
       "</table>\n",
       "</div>"
      ],
      "text/plain": [
       "         city     2019     2020     2021     2022     2023     2024\n",
       "0  Lisbon 1br   940.91   958.12  1054.79  1321.22  1137.77  1295.57\n",
       "1  Berlin 1br  1522.45  1472.30  1689.52  2071.55  2003.01  1937.36\n",
       "2  Paris 1 br  1918.05  2032.62  2086.78  2076.73  1974.07  2055.01"
      ]
     },
     "execution_count": 28,
     "metadata": {},
     "output_type": "execute_result"
    }
   ],
   "source": [
    "apt_buying = pd.read_excel(\"../data/raw/Apartment buying cost over time.xlsx\", sheet_name = 1)\n",
    "apt_buying.rename(columns = {\"Unnamed: 0\" : \"city\".lstrip()}, inplace = True)\n",
    "\n",
    "buying_one_br = apt_buying.drop(range(3,7))\n",
    "\n",
    "buying_one_br.columns = buying_one_br.columns.str.strip()\n",
    "buying_one_br.columns = [col.split()[0] for col in buying_one_br.columns]\n",
    "\n",
    "\n",
    "monthly_salary = pd.read_excel(\"../data/raw/numbeo_stats.xlsx\", sheet_name = 0)\n",
    "monthly_salary.fillna(method='ffill', inplace=True)\n",
    "monthly_salary.rename(columns = {\"City\" : \"city\".lstrip()}, inplace = True)\n",
    "monthly_salary[\"city\"] = [value.lower() for value in monthly_salary[\"city\"]]\n",
    "\n",
    "\n",
    "monthly_salary = monthly_salary.drop(range(3,6))\n",
    "monthly_salary =monthly_salary.drop(range(6,9))\n",
    "\n",
    "buying_one_br = buying_one_br.round(2)\n",
    "\n",
    "buying_one_br\n",
    "\n",
    "# Check column names in the buying_one_br dataframe\n"
   ]
  },
  {
   "cell_type": "code",
   "execution_count": null,
   "id": "f2800868-a6cf-4bec-ae4c-630e9bc969e9",
   "metadata": {},
   "outputs": [],
   "source": []
  },
  {
   "cell_type": "code",
   "execution_count": null,
   "id": "bad04b6e-7f53-4ecb-bab5-316d9d899100",
   "metadata": {},
   "outputs": [],
   "source": []
  },
  {
   "cell_type": "code",
   "execution_count": null,
   "id": "ba0f4b2d-a703-4eb3-a2e6-ec20379bc8f5",
   "metadata": {},
   "outputs": [],
   "source": [
    "\n",
    "\n",
    "# Example data for monthly rent (monthly_salary)\n",
    "data_rent = {\n",
    "    'Unnamed: 0': ['1 bed apartment (rent)', '1 bed apartment (rent)', '1 bed apartment (rent)', \n",
    "                   'Av salary (after tax)', 'Av salary (after tax)', 'Av salary (after tax)'],\n",
    "    'city': ['lisbon', 'berlin', 'paris', 'lisbon', 'berlin', 'paris'],\n",
    "    '2019': [894.00, 905.53, 1201.81, 931.03, 2360.33, 2308.96],\n",
    "    '2020': [843.29, 889.28, 1222.21, 1028.22, 2397.59, 2510.77],\n",
    "    '2021': [868.30, 1036.35, 1256.88, 1034.12, 2971.54, 2791.18],\n",
    "    '2022': [1024.46, 1237.16, 1273.16, 1062.71, 2987.30, 2601.82],\n",
    "    '2023': [1259.74, 1276.16, 1333.65, 1169.53, 3128.02, 2846.41],\n",
    "    '2024': [1413.16, 1186.62, 1258.63, 1235.38, 2952.47, 3076.78]\n",
    "}\n",
    "\n",
    "# Example data for buying a 1-bedroom apartment (buying_one_br)\n",
    "data_buying_one_br = {\n",
    "    'city': ['Lisbon 1br', 'Berlin 1br', 'Paris 1 br'],\n",
    "    '2019': [940.91, 1522.45, 1918.05],\n",
    "    '2020': [958.12, 1472.30, 2032.62],\n",
    "    '2021': [1054.79, 1689.52, 2086.78],\n",
    "    '2022': [1321.22, 2071.55, 2076.73],\n",
    "    '2023': [1137.77, 2003.01, 1974.07],\n",
    "    '2024': [1295.57, 1937.36, 2055.01]\n",
    "}\n",
    "\n",
    "# Create DataFrames for both rent and buying data\n",
    "monthly_salary = pd.DataFrame(data_rent)\n",
    "buying_one_br = pd.DataFrame(data_buying_one_br)\n",
    "\n",
    "# Convert 'city' columns to lowercase and strip extra suffixes for buying_one_br\n",
    "monthly_salary[\"city\"] = monthly_salary[\"city\"].str.lower()\n",
    "\n",
   "execution_count": 38,
   "id": "75f65938-03bd-4f02-833f-b5201bf9cb6f",
   "metadata": {},
   "outputs": [
    {
     "data": {
      "application/vnd.plotly.v1+json": {
       "config": {
        "plotlyServerURL": "https://plot.ly"
       },
       "data": [
        {
         "line": {
          "color": "blue",
          "width": 2
         },
         "marker": {
          "color": "blue",
          "size": 8
         },
         "mode": "lines+markers",
         "name": "Rent (1br)",
         "type": "scatter",
         "x": [
          "2019",
          "2020",
          "2021",
          "2022",
          "2023",
          "2024"
         ],
         "y": [
          905.53,
          889.28,
          1036.35,
          1237.16,
          1276.16,
          1186.62
         ]
        },
        {
         "line": {
          "color": "green",
          "width": 2
         },
         "marker": {
          "color": "green",
          "size": 8
         },
         "mode": "lines+markers",
         "name": "Buying Price (1br)",
         "type": "scatter",
         "x": [
          "2019",
          "2020",
          "2021",
          "2022",
          "2023",
          "2024"
         ],
         "y": [
          1522.45,
          1472.3,
          1689.52,
          2071.55,
          2003.01,
          1937.36
         ]
        },
        {
         "line": {
          "color": "red",
          "width": 2
         },
         "marker": {
          "color": "red",
          "size": 8
         },
         "mode": "lines+markers",
         "name": "Income (after tax)",
         "type": "scatter",
         "x": [
          "2019",
          "2020",
          "2021",
          "2022",
          "2023",
          "2024"
         ],
         "y": [
          2360.33,
          2397.59,
          2971.54,
          2987.3,
          3128.02,
          2952.47
         ]
        }
       ],
       "layout": {
        "autosize": true,
        "legend": {
         "title": {
          "text": "Legend"
         }
        },
        "template": {
         "data": {
          "bar": [
           {
            "error_x": {
             "color": "#2a3f5f"
            },
            "error_y": {
             "color": "#2a3f5f"
            },
            "marker": {
             "line": {
              "color": "#E5ECF6",
              "width": 0.5
             },
             "pattern": {
              "fillmode": "overlay",
              "size": 10,
              "solidity": 0.2
             }
            },
            "type": "bar"
           }
          ],
          "barpolar": [
           {
            "marker": {
             "line": {
              "color": "#E5ECF6",
              "width": 0.5
             },
             "pattern": {
              "fillmode": "overlay",
              "size": 10,
              "solidity": 0.2
             }
            },
            "type": "barpolar"
           }
          ],
          "carpet": [
           {
            "aaxis": {
             "endlinecolor": "#2a3f5f",
             "gridcolor": "white",
             "linecolor": "white",
             "minorgridcolor": "white",
             "startlinecolor": "#2a3f5f"
            },
            "baxis": {
             "endlinecolor": "#2a3f5f",
             "gridcolor": "white",
             "linecolor": "white",
             "minorgridcolor": "white",
             "startlinecolor": "#2a3f5f"
            },
            "type": "carpet"
           }
          ],
          "choropleth": [
           {
            "colorbar": {
             "outlinewidth": 0,
             "ticks": ""
            },
            "type": "choropleth"
           }
          ],
          "contour": [
           {
            "colorbar": {
             "outlinewidth": 0,
             "ticks": ""
            },
            "colorscale": [
             [
              0,
              "#0d0887"
             ],
             [
              0.1111111111111111,
              "#46039f"
             ],
             [
              0.2222222222222222,
              "#7201a8"
             ],
             [
              0.3333333333333333,
              "#9c179e"
             ],
             [
              0.4444444444444444,
              "#bd3786"
             ],
             [
              0.5555555555555556,
              "#d8576b"
             ],
             [
              0.6666666666666666,
              "#ed7953"
             ],
             [
              0.7777777777777778,
              "#fb9f3a"
             ],
             [
              0.8888888888888888,
              "#fdca26"
             ],
             [
              1,
              "#f0f921"
             ]
            ],
            "type": "contour"
           }
          ],
          "contourcarpet": [
           {
            "colorbar": {
             "outlinewidth": 0,
             "ticks": ""
            },
            "type": "contourcarpet"
           }
          ],
          "heatmap": [
           {
            "colorbar": {
             "outlinewidth": 0,
             "ticks": ""
            },
            "colorscale": [
             [
              0,
              "#0d0887"
             ],
             [
              0.1111111111111111,
              "#46039f"
             ],
             [
              0.2222222222222222,
              "#7201a8"
             ],
             [
              0.3333333333333333,
              "#9c179e"
             ],
             [
              0.4444444444444444,
              "#bd3786"
             ],
             [
              0.5555555555555556,
              "#d8576b"
             ],
             [
              0.6666666666666666,
              "#ed7953"
             ],
             [
              0.7777777777777778,
              "#fb9f3a"
             ],
             [
              0.8888888888888888,
              "#fdca26"
             ],
             [
              1,
              "#f0f921"
             ]
            ],
            "type": "heatmap"
           }
          ],
          "heatmapgl": [
           {
            "colorbar": {
             "outlinewidth": 0,
             "ticks": ""
            },
            "colorscale": [
             [
              0,
              "#0d0887"
             ],
             [
              0.1111111111111111,
              "#46039f"
             ],
             [
              0.2222222222222222,
              "#7201a8"
             ],
             [
              0.3333333333333333,
              "#9c179e"
             ],
             [
              0.4444444444444444,
              "#bd3786"
             ],
             [
              0.5555555555555556,
              "#d8576b"
             ],
             [
              0.6666666666666666,
              "#ed7953"
             ],
             [
              0.7777777777777778,
              "#fb9f3a"
             ],
             [
              0.8888888888888888,
              "#fdca26"
             ],
             [
              1,
              "#f0f921"
             ]
            ],
            "type": "heatmapgl"
           }
          ],
          "histogram": [
           {
            "marker": {
             "pattern": {
              "fillmode": "overlay",
              "size": 10,
              "solidity": 0.2
             }
            },
            "type": "histogram"
           }
          ],
          "histogram2d": [
           {
            "colorbar": {
             "outlinewidth": 0,
             "ticks": ""
            },
            "colorscale": [
             [
              0,
              "#0d0887"
             ],
             [
              0.1111111111111111,
              "#46039f"
             ],
             [
              0.2222222222222222,
              "#7201a8"
             ],
             [
              0.3333333333333333,
              "#9c179e"
             ],
             [
              0.4444444444444444,
              "#bd3786"
             ],
             [
              0.5555555555555556,
              "#d8576b"
             ],
             [
              0.6666666666666666,
              "#ed7953"
             ],
             [
              0.7777777777777778,
              "#fb9f3a"
             ],
             [
              0.8888888888888888,
              "#fdca26"
             ],
             [
              1,
              "#f0f921"
             ]
            ],
            "type": "histogram2d"
           }
          ],
          "histogram2dcontour": [
           {
            "colorbar": {
             "outlinewidth": 0,
             "ticks": ""
            },
            "colorscale": [
             [
              0,
              "#0d0887"
             ],
             [
              0.1111111111111111,
              "#46039f"
             ],
             [
              0.2222222222222222,
              "#7201a8"
             ],
             [
              0.3333333333333333,
              "#9c179e"
             ],
             [
              0.4444444444444444,
              "#bd3786"
             ],
             [
              0.5555555555555556,
              "#d8576b"
             ],
             [
              0.6666666666666666,
              "#ed7953"
             ],
             [
              0.7777777777777778,
              "#fb9f3a"
             ],
             [
              0.8888888888888888,
              "#fdca26"
             ],
             [
              1,
              "#f0f921"
             ]
            ],
            "type": "histogram2dcontour"
           }
          ],
          "mesh3d": [
           {
            "colorbar": {
             "outlinewidth": 0,
             "ticks": ""
            },
            "type": "mesh3d"
           }
          ],
          "parcoords": [
           {
            "line": {
             "colorbar": {
              "outlinewidth": 0,
              "ticks": ""
             }
            },
            "type": "parcoords"
           }
          ],
          "pie": [
           {
            "automargin": true,
            "type": "pie"
           }
          ],
          "scatter": [
           {
            "fillpattern": {
             "fillmode": "overlay",
             "size": 10,
             "solidity": 0.2
            },
            "type": "scatter"
           }
          ],
          "scatter3d": [
           {
            "line": {
             "colorbar": {
              "outlinewidth": 0,
              "ticks": ""
             }
            },
            "marker": {
             "colorbar": {
              "outlinewidth": 0,
              "ticks": ""
             }
            },
            "type": "scatter3d"
           }
          ],
          "scattercarpet": [
           {
            "marker": {
             "colorbar": {
              "outlinewidth": 0,
              "ticks": ""
             }
            },
            "type": "scattercarpet"
           }
          ],
          "scattergeo": [
           {
            "marker": {
             "colorbar": {
              "outlinewidth": 0,
              "ticks": ""
             }
            },
            "type": "scattergeo"
           }
          ],
          "scattergl": [
           {
            "marker": {
             "colorbar": {
              "outlinewidth": 0,
              "ticks": ""
             }
            },
            "type": "scattergl"
           }
          ],
          "scattermapbox": [
           {
            "marker": {
             "colorbar": {
              "outlinewidth": 0,
              "ticks": ""
             }
            },
            "type": "scattermapbox"
           }
          ],
          "scatterpolar": [
           {
            "marker": {
             "colorbar": {
              "outlinewidth": 0,
              "ticks": ""
             }
            },
            "type": "scatterpolar"
           }
          ],
          "scatterpolargl": [
           {
            "marker": {
             "colorbar": {
              "outlinewidth": 0,
              "ticks": ""
             }
            },
            "type": "scatterpolargl"
           }
          ],
          "scatterternary": [
           {
            "marker": {
             "colorbar": {
              "outlinewidth": 0,
              "ticks": ""
             }
            },
            "type": "scatterternary"
           }
          ],
          "surface": [
           {
            "colorbar": {
             "outlinewidth": 0,
             "ticks": ""
            },
            "colorscale": [
             [
              0,
              "#0d0887"
             ],
             [
              0.1111111111111111,
              "#46039f"
             ],
             [
              0.2222222222222222,
              "#7201a8"
             ],
             [
              0.3333333333333333,
              "#9c179e"
             ],
             [
              0.4444444444444444,
              "#bd3786"
             ],
             [
              0.5555555555555556,
              "#d8576b"
             ],
             [
              0.6666666666666666,
              "#ed7953"
             ],
             [
              0.7777777777777778,
              "#fb9f3a"
             ],
             [
              0.8888888888888888,
              "#fdca26"
             ],
             [
              1,
              "#f0f921"
             ]
            ],
            "type": "surface"
           }
          ],
          "table": [
           {
            "cells": {
             "fill": {
              "color": "#EBF0F8"
             },
             "line": {
              "color": "white"
             }
            },
            "header": {
             "fill": {
              "color": "#C8D4E3"
             },
             "line": {
              "color": "white"
             }
            },
            "type": "table"
           }
          ]
         },
         "layout": {
          "annotationdefaults": {
           "arrowcolor": "#2a3f5f",
           "arrowhead": 0,
           "arrowwidth": 1
          },
          "autotypenumbers": "strict",
          "coloraxis": {
           "colorbar": {
            "outlinewidth": 0,
            "ticks": ""
           }
          },
          "colorscale": {
           "diverging": [
            [
             0,
             "#8e0152"
            ],
            [
             0.1,
             "#c51b7d"
            ],
            [
             0.2,
             "#de77ae"
            ],
            [
             0.3,
             "#f1b6da"
            ],
            [
             0.4,
             "#fde0ef"
            ],
            [
             0.5,
             "#f7f7f7"
            ],
            [
             0.6,
             "#e6f5d0"
            ],
            [
             0.7,
             "#b8e186"
            ],
            [
             0.8,
             "#7fbc41"
            ],
            [
             0.9,
             "#4d9221"
            ],
            [
             1,
             "#276419"
            ]
           ],
           "sequential": [
            [
             0,
             "#0d0887"
            ],
            [
             0.1111111111111111,
             "#46039f"
            ],
            [
             0.2222222222222222,
             "#7201a8"
            ],
            [
             0.3333333333333333,
             "#9c179e"
            ],
            [
             0.4444444444444444,
             "#bd3786"
            ],
            [
             0.5555555555555556,
             "#d8576b"
            ],
            [
             0.6666666666666666,
             "#ed7953"
            ],
            [
             0.7777777777777778,
             "#fb9f3a"
            ],
            [
             0.8888888888888888,
             "#fdca26"
            ],
            [
             1,
             "#f0f921"
            ]
           ],
           "sequentialminus": [
            [
             0,
             "#0d0887"
            ],
            [
             0.1111111111111111,
             "#46039f"
            ],
            [
             0.2222222222222222,
             "#7201a8"
            ],
            [
             0.3333333333333333,
             "#9c179e"
            ],
            [
             0.4444444444444444,
             "#bd3786"
            ],
            [
             0.5555555555555556,
             "#d8576b"
            ],
            [
             0.6666666666666666,
             "#ed7953"
            ],
            [
             0.7777777777777778,
             "#fb9f3a"
            ],
            [
             0.8888888888888888,
             "#fdca26"
            ],
            [
             1,
             "#f0f921"
            ]
           ]
          },
          "colorway": [
           "#636efa",
           "#EF553B",
           "#00cc96",
           "#ab63fa",
           "#FFA15A",
           "#19d3f3",
           "#FF6692",
           "#B6E880",
           "#FF97FF",
           "#FECB52"
          ],
          "font": {
           "color": "#2a3f5f"
          },
          "geo": {
           "bgcolor": "white",
           "lakecolor": "white",
           "landcolor": "#E5ECF6",
           "showlakes": true,
           "showland": true,
           "subunitcolor": "white"
          },
          "hoverlabel": {
           "align": "left"
          },
          "hovermode": "closest",
          "mapbox": {
           "style": "light"
          },
          "paper_bgcolor": "white",
          "plot_bgcolor": "#E5ECF6",
          "polar": {
           "angularaxis": {
            "gridcolor": "white",
            "linecolor": "white",
            "ticks": ""
           },
           "bgcolor": "#E5ECF6",
           "radialaxis": {
            "gridcolor": "white",
            "linecolor": "white",
            "ticks": ""
           }
          },
          "scene": {
           "xaxis": {
            "backgroundcolor": "#E5ECF6",
            "gridcolor": "white",
            "gridwidth": 2,
            "linecolor": "white",
            "showbackground": true,
            "ticks": "",
            "zerolinecolor": "white"
           },
           "yaxis": {
            "backgroundcolor": "#E5ECF6",
            "gridcolor": "white",
            "gridwidth": 2,
            "linecolor": "white",
            "showbackground": true,
            "ticks": "",
            "zerolinecolor": "white"
           },
           "zaxis": {
            "backgroundcolor": "#E5ECF6",
            "gridcolor": "white",
            "gridwidth": 2,
            "linecolor": "white",
            "showbackground": true,
            "ticks": "",
            "zerolinecolor": "white"
           }
          },
          "shapedefaults": {
           "line": {
            "color": "#2a3f5f"
           }
          },
          "ternary": {
           "aaxis": {
            "gridcolor": "white",
            "linecolor": "white",
            "ticks": ""
           },
           "baxis": {
            "gridcolor": "white",
            "linecolor": "white",
            "ticks": ""
           },
           "bgcolor": "#E5ECF6",
           "caxis": {
            "gridcolor": "white",
            "linecolor": "white",
            "ticks": ""
           }
          },
          "title": {
           "x": 0.05
          },
          "xaxis": {
           "automargin": true,
           "gridcolor": "white",
           "linecolor": "white",
           "ticks": "",
           "title": {
            "standoff": 15
           },
           "zerolinecolor": "white",
           "zerolinewidth": 2
          },
          "yaxis": {
           "automargin": true,
           "gridcolor": "white",
           "linecolor": "white",
           "ticks": "",
           "title": {
            "standoff": 15
           },
           "zerolinecolor": "white",
           "zerolinewidth": 2
          }
         }
        },
        "title": {
         "text": "Berlin: Income vs Rent and Buying Prices (1br)"
        },
        "xaxis": {
         "autorange": true,
         "range": [
          -0.31650864472950363,
          5.316508644729503
         ],
         "tickmode": "linear",
         "title": {
          "text": "Year"
         },
         "type": "category"
        },
        "yaxis": {
         "autorange": true,
         "range": [
          683.0802631578947,
          3334.2197368421052
         ],
         "tickformat": ".2f",
         "title": {
          "text": "Amount (€)"
         },
         "type": "linear"
        }
       }
      },
      "image/png": "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",
      "text/html": [
       "<div>                            <div id=\"435a42a6-b343-40e8-ae4c-94073905c1dc\" class=\"plotly-graph-div\" style=\"height:525px; width:100%;\"></div>            <script type=\"text/javascript\">                require([\"plotly\"], function(Plotly) {                    window.PLOTLYENV=window.PLOTLYENV || {};                                    if (document.getElementById(\"435a42a6-b343-40e8-ae4c-94073905c1dc\")) {                    Plotly.newPlot(                        \"435a42a6-b343-40e8-ae4c-94073905c1dc\",                        [{\"line\":{\"color\":\"blue\",\"width\":2},\"marker\":{\"color\":\"blue\",\"size\":8},\"mode\":\"lines+markers\",\"name\":\"Rent (1br)\",\"x\":[\"2019\",\"2020\",\"2021\",\"2022\",\"2023\",\"2024\"],\"y\":[905.53,889.28,1036.35,1237.16,1276.16,1186.62],\"type\":\"scatter\"},{\"line\":{\"color\":\"green\",\"width\":2},\"marker\":{\"color\":\"green\",\"size\":8},\"mode\":\"lines+markers\",\"name\":\"Buying Price (1br)\",\"x\":[\"2019\",\"2020\",\"2021\",\"2022\",\"2023\",\"2024\"],\"y\":[1522.45,1472.3,1689.52,2071.55,2003.01,1937.36],\"type\":\"scatter\"},{\"line\":{\"color\":\"red\",\"width\":2},\"marker\":{\"color\":\"red\",\"size\":8},\"mode\":\"lines+markers\",\"name\":\"Income (after tax)\",\"x\":[\"2019\",\"2020\",\"2021\",\"2022\",\"2023\",\"2024\"],\"y\":[2360.33,2397.59,2971.54,2987.3,3128.02,2952.47],\"type\":\"scatter\"}],                        {\"template\":{\"data\":{\"histogram2dcontour\":[{\"type\":\"histogram2dcontour\",\"colorbar\":{\"outlinewidth\":0,\"ticks\":\"\"},\"colorscale\":[[0.0,\"#0d0887\"],[0.1111111111111111,\"#46039f\"],[0.2222222222222222,\"#7201a8\"],[0.3333333333333333,\"#9c179e\"],[0.4444444444444444,\"#bd3786\"],[0.5555555555555556,\"#d8576b\"],[0.6666666666666666,\"#ed7953\"],[0.7777777777777778,\"#fb9f3a\"],[0.8888888888888888,\"#fdca26\"],[1.0,\"#f0f921\"]]}],\"choropleth\":[{\"type\":\"choropleth\",\"colorbar\":{\"outlinewidth\":0,\"ticks\":\"\"}}],\"histogram2d\":[{\"type\":\"histogram2d\",\"colorbar\":{\"outlinewidth\":0,\"ticks\":\"\"},\"colorscale\":[[0.0,\"#0d0887\"],[0.1111111111111111,\"#46039f\"],[0.2222222222222222,\"#7201a8\"],[0.3333333333333333,\"#9c179e\"],[0.4444444444444444,\"#bd3786\"],[0.5555555555555556,\"#d8576b\"],[0.6666666666666666,\"#ed7953\"],[0.7777777777777778,\"#fb9f3a\"],[0.8888888888888888,\"#fdca26\"],[1.0,\"#f0f921\"]]}],\"heatmap\":[{\"type\":\"heatmap\",\"colorbar\":{\"outlinewidth\":0,\"ticks\":\"\"},\"colorscale\":[[0.0,\"#0d0887\"],[0.1111111111111111,\"#46039f\"],[0.2222222222222222,\"#7201a8\"],[0.3333333333333333,\"#9c179e\"],[0.4444444444444444,\"#bd3786\"],[0.5555555555555556,\"#d8576b\"],[0.6666666666666666,\"#ed7953\"],[0.7777777777777778,\"#fb9f3a\"],[0.8888888888888888,\"#fdca26\"],[1.0,\"#f0f921\"]]}],\"heatmapgl\":[{\"type\":\"heatmapgl\",\"colorbar\":{\"outlinewidth\":0,\"ticks\":\"\"},\"colorscale\":[[0.0,\"#0d0887\"],[0.1111111111111111,\"#46039f\"],[0.2222222222222222,\"#7201a8\"],[0.3333333333333333,\"#9c179e\"],[0.4444444444444444,\"#bd3786\"],[0.5555555555555556,\"#d8576b\"],[0.6666666666666666,\"#ed7953\"],[0.7777777777777778,\"#fb9f3a\"],[0.8888888888888888,\"#fdca26\"],[1.0,\"#f0f921\"]]}],\"contourcarpet\":[{\"type\":\"contourcarpet\",\"colorbar\":{\"outlinewidth\":0,\"ticks\":\"\"}}],\"contour\":[{\"type\":\"contour\",\"colorbar\":{\"outlinewidth\":0,\"ticks\":\"\"},\"colorscale\":[[0.0,\"#0d0887\"],[0.1111111111111111,\"#46039f\"],[0.2222222222222222,\"#7201a8\"],[0.3333333333333333,\"#9c179e\"],[0.4444444444444444,\"#bd3786\"],[0.5555555555555556,\"#d8576b\"],[0.6666666666666666,\"#ed7953\"],[0.7777777777777778,\"#fb9f3a\"],[0.8888888888888888,\"#fdca26\"],[1.0,\"#f0f921\"]]}],\"surface\":[{\"type\":\"surface\",\"colorbar\":{\"outlinewidth\":0,\"ticks\":\"\"},\"colorscale\":[[0.0,\"#0d0887\"],[0.1111111111111111,\"#46039f\"],[0.2222222222222222,\"#7201a8\"],[0.3333333333333333,\"#9c179e\"],[0.4444444444444444,\"#bd3786\"],[0.5555555555555556,\"#d8576b\"],[0.6666666666666666,\"#ed7953\"],[0.7777777777777778,\"#fb9f3a\"],[0.8888888888888888,\"#fdca26\"],[1.0,\"#f0f921\"]]}],\"mesh3d\":[{\"type\":\"mesh3d\",\"colorbar\":{\"outlinewidth\":0,\"ticks\":\"\"}}],\"scatter\":[{\"fillpattern\":{\"fillmode\":\"overlay\",\"size\":10,\"solidity\":0.2},\"type\":\"scatter\"}],\"parcoords\":[{\"type\":\"parcoords\",\"line\":{\"colorbar\":{\"outlinewidth\":0,\"ticks\":\"\"}}}],\"scatterpolargl\":[{\"type\":\"scatterpolargl\",\"marker\":{\"colorbar\":{\"outlinewidth\":0,\"ticks\":\"\"}}}],\"bar\":[{\"error_x\":{\"color\":\"#2a3f5f\"},\"error_y\":{\"color\":\"#2a3f5f\"},\"marker\":{\"line\":{\"color\":\"#E5ECF6\",\"width\":0.5},\"pattern\":{\"fillmode\":\"overlay\",\"size\":10,\"solidity\":0.2}},\"type\":\"bar\"}],\"scattergeo\":[{\"type\":\"scattergeo\",\"marker\":{\"colorbar\":{\"outlinewidth\":0,\"ticks\":\"\"}}}],\"scatterpolar\":[{\"type\":\"scatterpolar\",\"marker\":{\"colorbar\":{\"outlinewidth\":0,\"ticks\":\"\"}}}],\"histogram\":[{\"marker\":{\"pattern\":{\"fillmode\":\"overlay\",\"size\":10,\"solidity\":0.2}},\"type\":\"histogram\"}],\"scattergl\":[{\"type\":\"scattergl\",\"marker\":{\"colorbar\":{\"outlinewidth\":0,\"ticks\":\"\"}}}],\"scatter3d\":[{\"type\":\"scatter3d\",\"line\":{\"colorbar\":{\"outlinewidth\":0,\"ticks\":\"\"}},\"marker\":{\"colorbar\":{\"outlinewidth\":0,\"ticks\":\"\"}}}],\"scattermapbox\":[{\"type\":\"scattermapbox\",\"marker\":{\"colorbar\":{\"outlinewidth\":0,\"ticks\":\"\"}}}],\"scatterternary\":[{\"type\":\"scatterternary\",\"marker\":{\"colorbar\":{\"outlinewidth\":0,\"ticks\":\"\"}}}],\"scattercarpet\":[{\"type\":\"scattercarpet\",\"marker\":{\"colorbar\":{\"outlinewidth\":0,\"ticks\":\"\"}}}],\"carpet\":[{\"aaxis\":{\"endlinecolor\":\"#2a3f5f\",\"gridcolor\":\"white\",\"linecolor\":\"white\",\"minorgridcolor\":\"white\",\"startlinecolor\":\"#2a3f5f\"},\"baxis\":{\"endlinecolor\":\"#2a3f5f\",\"gridcolor\":\"white\",\"linecolor\":\"white\",\"minorgridcolor\":\"white\",\"startlinecolor\":\"#2a3f5f\"},\"type\":\"carpet\"}],\"table\":[{\"cells\":{\"fill\":{\"color\":\"#EBF0F8\"},\"line\":{\"color\":\"white\"}},\"header\":{\"fill\":{\"color\":\"#C8D4E3\"},\"line\":{\"color\":\"white\"}},\"type\":\"table\"}],\"barpolar\":[{\"marker\":{\"line\":{\"color\":\"#E5ECF6\",\"width\":0.5},\"pattern\":{\"fillmode\":\"overlay\",\"size\":10,\"solidity\":0.2}},\"type\":\"barpolar\"}],\"pie\":[{\"automargin\":true,\"type\":\"pie\"}]},\"layout\":{\"autotypenumbers\":\"strict\",\"colorway\":[\"#636efa\",\"#EF553B\",\"#00cc96\",\"#ab63fa\",\"#FFA15A\",\"#19d3f3\",\"#FF6692\",\"#B6E880\",\"#FF97FF\",\"#FECB52\"],\"font\":{\"color\":\"#2a3f5f\"},\"hovermode\":\"closest\",\"hoverlabel\":{\"align\":\"left\"},\"paper_bgcolor\":\"white\",\"plot_bgcolor\":\"#E5ECF6\",\"polar\":{\"bgcolor\":\"#E5ECF6\",\"angularaxis\":{\"gridcolor\":\"white\",\"linecolor\":\"white\",\"ticks\":\"\"},\"radialaxis\":{\"gridcolor\":\"white\",\"linecolor\":\"white\",\"ticks\":\"\"}},\"ternary\":{\"bgcolor\":\"#E5ECF6\",\"aaxis\":{\"gridcolor\":\"white\",\"linecolor\":\"white\",\"ticks\":\"\"},\"baxis\":{\"gridcolor\":\"white\",\"linecolor\":\"white\",\"ticks\":\"\"},\"caxis\":{\"gridcolor\":\"white\",\"linecolor\":\"white\",\"ticks\":\"\"}},\"coloraxis\":{\"colorbar\":{\"outlinewidth\":0,\"ticks\":\"\"}},\"colorscale\":{\"sequential\":[[0.0,\"#0d0887\"],[0.1111111111111111,\"#46039f\"],[0.2222222222222222,\"#7201a8\"],[0.3333333333333333,\"#9c179e\"],[0.4444444444444444,\"#bd3786\"],[0.5555555555555556,\"#d8576b\"],[0.6666666666666666,\"#ed7953\"],[0.7777777777777778,\"#fb9f3a\"],[0.8888888888888888,\"#fdca26\"],[1.0,\"#f0f921\"]],\"sequentialminus\":[[0.0,\"#0d0887\"],[0.1111111111111111,\"#46039f\"],[0.2222222222222222,\"#7201a8\"],[0.3333333333333333,\"#9c179e\"],[0.4444444444444444,\"#bd3786\"],[0.5555555555555556,\"#d8576b\"],[0.6666666666666666,\"#ed7953\"],[0.7777777777777778,\"#fb9f3a\"],[0.8888888888888888,\"#fdca26\"],[1.0,\"#f0f921\"]],\"diverging\":[[0,\"#8e0152\"],[0.1,\"#c51b7d\"],[0.2,\"#de77ae\"],[0.3,\"#f1b6da\"],[0.4,\"#fde0ef\"],[0.5,\"#f7f7f7\"],[0.6,\"#e6f5d0\"],[0.7,\"#b8e186\"],[0.8,\"#7fbc41\"],[0.9,\"#4d9221\"],[1,\"#276419\"]]},\"xaxis\":{\"gridcolor\":\"white\",\"linecolor\":\"white\",\"ticks\":\"\",\"title\":{\"standoff\":15},\"zerolinecolor\":\"white\",\"automargin\":true,\"zerolinewidth\":2},\"yaxis\":{\"gridcolor\":\"white\",\"linecolor\":\"white\",\"ticks\":\"\",\"title\":{\"standoff\":15},\"zerolinecolor\":\"white\",\"automargin\":true,\"zerolinewidth\":2},\"scene\":{\"xaxis\":{\"backgroundcolor\":\"#E5ECF6\",\"gridcolor\":\"white\",\"linecolor\":\"white\",\"showbackground\":true,\"ticks\":\"\",\"zerolinecolor\":\"white\",\"gridwidth\":2},\"yaxis\":{\"backgroundcolor\":\"#E5ECF6\",\"gridcolor\":\"white\",\"linecolor\":\"white\",\"showbackground\":true,\"ticks\":\"\",\"zerolinecolor\":\"white\",\"gridwidth\":2},\"zaxis\":{\"backgroundcolor\":\"#E5ECF6\",\"gridcolor\":\"white\",\"linecolor\":\"white\",\"showbackground\":true,\"ticks\":\"\",\"zerolinecolor\":\"white\",\"gridwidth\":2}},\"shapedefaults\":{\"line\":{\"color\":\"#2a3f5f\"}},\"annotationdefaults\":{\"arrowcolor\":\"#2a3f5f\",\"arrowhead\":0,\"arrowwidth\":1},\"geo\":{\"bgcolor\":\"white\",\"landcolor\":\"#E5ECF6\",\"subunitcolor\":\"white\",\"showland\":true,\"showlakes\":true,\"lakecolor\":\"white\"},\"title\":{\"x\":0.05},\"mapbox\":{\"style\":\"light\"}}},\"xaxis\":{\"title\":{\"text\":\"Year\"},\"tickmode\":\"linear\"},\"yaxis\":{\"title\":{\"text\":\"Amount (\\u20ac)\"},\"tickformat\":\".2f\"},\"title\":{\"text\":\"Berlin: Income vs Rent and Buying Prices (1br)\"},\"legend\":{\"title\":{\"text\":\"Legend\"}}},                        {\"responsive\": true}                    ).then(function(){\n",
       "                            \n",
       "var gd = document.getElementById('435a42a6-b343-40e8-ae4c-94073905c1dc');\n",
       "var x = new MutationObserver(function (mutations, observer) {{\n",
       "        var display = window.getComputedStyle(gd).display;\n",
       "        if (!display || display === 'none') {{\n",
       "            console.log([gd, 'removed!']);\n",
       "            Plotly.purge(gd);\n",
       "            observer.disconnect();\n",
       "        }}\n",
       "}});\n",
       "\n",
       "// Listen for the removal of the full notebook cells\n",
       "var notebookContainer = gd.closest('#notebook-container');\n",
       "if (notebookContainer) {{\n",
       "    x.observe(notebookContainer, {childList: true});\n",
       "}}\n",
       "\n",
       "// Listen for the clearing of the current output cell\n",
       "var outputEl = gd.closest('.output');\n",
       "if (outputEl) {{\n",
       "    x.observe(outputEl, {childList: true});\n",
       "}}\n",
       "\n",
       "                        })                };                });            </script>        </div>"
      ]
     },
     "metadata": {},
     "output_type": "display_data"
    }
   ],
   "source": [
    "\n",
    "# Filter the data for Berlin\n",
    "berlin_rent = monthly_salary[(monthly_salary['city'] == 'berlin') & (monthly_salary['Unnamed: 0'] == '1 bed apartment (rent)')]\n",
    "berlin_salary = monthly_salary[(monthly_salary['city'] == 'berlin') & (monthly_salary['Unnamed: 0'] == 'Av salary (after tax)')]\n",
    "berlin_buying = buying_one_br[buying_one_br['city'] == 'berlin 1br']\n",
    "\n",
    "# Extract year columns and corresponding values for plotting\n",
    "years = ['2019', '2020', '2021', '2022', '2023', '2024']\n",
    "berlin_rent_values = berlin_rent[years].values.flatten()\n",
    "berlin_salary_values = berlin_salary[years].values.flatten()\n",
    "berlin_buying_values = berlin_buying[years].values.flatten()\n",
    "\n",
    "# Create a plotly figure with two line graphs: income vs rent and income vs buying price\n",
    "fig = go.Figure()\n",
    "\n",
    "# Plot income vs rent for Berlin\n",
    "fig.add_trace(go.Scatter(\n",
    "    x=years, y=berlin_rent_values, mode='lines+markers', name='Rent (1br)',\n",
    "    line=dict(color='blue', width=2),\n",
    "    marker=dict(size=8, color='blue')\n",
    "))\n",
    "\n",
    "# Plot income vs buying price for Berlin\n",
    "fig.add_trace(go.Scatter(\n",
    "    x=years, y=berlin_buying_values, mode='lines+markers', name='Buying Price (1br)',\n",
    "    line=dict(color='green', width=2),\n",
    "    marker=dict(size=8, color='green')\n",
    "))\n",
    "\n",
    "# Plot income (after tax) for Berlin\n",
    "fig.add_trace(go.Scatter(\n",
    "    x=years, y=berlin_salary_values, mode='lines+markers', name='Income (after tax)',\n",
    "    line=dict(color='red', width=2),\n",
    "    marker=dict(size=8, color='red')\n",
    "))\n",
    "\n",
    "# Customize the layout of the figure\n",
    "fig.update_layout(\n",
    "    title=\"Berlin: Income vs Rent and Buying Prices (1br)\",\n",
    "    xaxis_title=\"Year\",\n",
    "    yaxis_title=\"Amount (€)\",\n",
    "    legend_title=\"Legend\",\n",
    "    xaxis=dict(tickmode='linear'),\n",
    "    yaxis=dict(tickformat=\".2f\")\n",
    ")\n",
    "\n",
    "# Show the plot\n",
    "fig.show()\n"
   ]
  },
  {
   "cell_type": "code",
   "execution_count": 52,
   "id": "b3e46a51-90ce-4e8e-81ce-f8823d423460",
   "metadata": {},
   "outputs": [
    {
     "data": {
      "application/vnd.plotly.v1+json": {
       "config": {
        "plotlyServerURL": "https://plot.ly"
       },
       "data": [
        {
         "line": {
          "color": "blue",
          "width": 2
         },
         "marker": {
          "color": "blue",
          "size": 8
         },
         "mode": "lines+markers",
         "name": "lisbon Rent",
         "type": "scatter",
         "x": [
          "2019",
          "2020",
          "2021",
          "2022",
          "2023",
          "2024"
         ],
         "xaxis": "x",
         "y": [
          894,
          843.29,
          868.3,
          1024.46,
          1259.74,
          1413.16
         ],
         "yaxis": "y"
        },
        {
         "line": {
          "color": "green",
          "width": 2
         },
         "marker": {
          "color": "green",
          "size": 8
         },
         "mode": "lines+markers",
         "name": "lisbon Buying Price",
         "type": "scatter",
         "x": [
          "2019",
          "2020",
          "2021",
          "2022",
          "2023",
          "2024"
         ],
         "xaxis": "x",
         "y": [
          940.91,
          958.12,
          1054.79,
          1321.22,
          1137.77,
          1295.57
         ],
         "yaxis": "y"
        },
        {
         "line": {
          "color": "red",
          "width": 2
         },
         "marker": {
          "color": "red",
          "size": 8
         },
         "mode": "lines+markers",
         "name": "lisbon Income",
         "type": "scatter",
         "x": [
          "2019",
          "2020",
          "2021",
          "2022",
          "2023",
          "2024"
         ],
         "xaxis": "x",
         "y": [
          931.03,
          1028.22,
          1034.12,
          1062.71,
          1169.53,
          1235.38
         ],
         "yaxis": "y"
        },
        {
         "line": {
          "color": "blue",
          "width": 2
         },
         "marker": {
          "color": "blue",
          "size": 8
         },
         "mode": "lines+markers",
         "name": "berlin Rent",
         "type": "scatter",
         "x": [
          "2019",
          "2020",
          "2021",
          "2022",
          "2023",
          "2024"
         ],
         "xaxis": "x2",
         "y": [
          905.53,
          889.28,
          1036.35,
          1237.16,
          1276.16,
          1186.62
         ],
         "yaxis": "y2"
        },
        {
         "line": {
          "color": "green",
          "width": 2
         },
         "marker": {
          "color": "green",
          "size": 8
         },
         "mode": "lines+markers",
         "name": "berlin Buying Price",
         "type": "scatter",
         "x": [
          "2019",
          "2020",
          "2021",
          "2022",
          "2023",
          "2024"
         ],
         "xaxis": "x2",
         "y": [
          1522.45,
          1472.3,
          1689.52,
          2071.55,
          2003.01,
          1937.36
         ],
         "yaxis": "y2"
        },
        {
         "line": {
          "color": "red",
          "width": 2
         },
         "marker": {
          "color": "red",
          "size": 8
         },
         "mode": "lines+markers",
         "name": "berlin Income",
         "type": "scatter",
         "x": [
          "2019",
          "2020",
          "2021",
          "2022",
          "2023",
          "2024"
         ],
         "xaxis": "x2",
         "y": [
          2360.33,
          2397.59,
          2971.54,
          2987.3,
          3128.02,
          2952.47
         ],
         "yaxis": "y2"
        },
        {
         "line": {
          "color": "blue",
          "width": 2
         },
         "marker": {
          "color": "blue",
          "size": 8
         },
         "mode": "lines+markers",
         "name": "paris Rent",
         "type": "scatter",
         "x": [
          "2019",
          "2020",
          "2021",
          "2022",
          "2023",
          "2024"
         ],
         "xaxis": "x3",
         "y": [
          1201.81,
          1222.21,
          1256.88,
          1273.16,
          1333.65,
          1258.63
         ],
         "yaxis": "y3"
        },
        {
         "line": {
          "color": "green",
          "width": 2
         },
         "marker": {
          "color": "green",
          "size": 8
         },
         "mode": "lines+markers",
         "name": "paris Buying Price",
         "type": "scatter",
         "x": [
          "2019",
          "2020",
          "2021",
          "2022",
          "2023",
          "2024"
         ],
         "xaxis": "x3",
         "y": [
          1918.05,
          2032.62,
          2086.78,
          2076.73,
          1974.07,
          2055.01
         ],
         "yaxis": "y3"
        },
        {
         "line": {
          "color": "red",
          "width": 2
         },
         "marker": {
          "color": "red",
          "size": 8
         },
         "mode": "lines+markers",
         "name": "paris Income",
         "type": "scatter",
         "x": [
          "2019",
          "2020",
          "2021",
          "2022",
          "2023",
          "2024"
         ],
         "xaxis": "x3",
         "y": [
          2308.96,
          2510.77,
          2791.18,
          2601.82,
          2846.41,
          3076.78
         ],
         "yaxis": "y3"
        }
       ],
       "layout": {
        "annotations": [
         {
          "font": {
           "size": 16
          },
          "showarrow": false,
          "text": "Lisbon",
          "x": 0.14444444444444446,
          "xanchor": "center",
          "xref": "paper",
          "y": 1,
          "yanchor": "bottom",
          "yref": "paper"
         },
         {
          "font": {
           "size": 16
          },
          "showarrow": false,
          "text": "Berlin",
          "x": 0.5,
          "xanchor": "center",
          "xref": "paper",
          "y": 1,
          "yanchor": "bottom",
          "yref": "paper"
         },
         {
          "font": {
           "size": 16
          },
          "showarrow": false,
          "text": "Paris",
          "x": 0.8555555555555556,
          "xanchor": "center",
          "xref": "paper",
          "y": 1,
          "yanchor": "bottom",
          "yref": "paper"
         }
        ],
        "height": 600,
        "showlegend": true,
        "template": {
         "data": {
          "bar": [
           {
            "error_x": {
             "color": "#2a3f5f"
            },
            "error_y": {
             "color": "#2a3f5f"
            },
            "marker": {
             "line": {
              "color": "#E5ECF6",
              "width": 0.5
             },
             "pattern": {
              "fillmode": "overlay",
              "size": 10,
              "solidity": 0.2
             }
            },
            "type": "bar"
           }
          ],
          "barpolar": [
           {
            "marker": {
             "line": {
              "color": "#E5ECF6",
              "width": 0.5
             },
             "pattern": {
              "fillmode": "overlay",
              "size": 10,
              "solidity": 0.2
             }
            },
            "type": "barpolar"
           }
          ],
          "carpet": [
           {
            "aaxis": {
             "endlinecolor": "#2a3f5f",
             "gridcolor": "white",
             "linecolor": "white",
             "minorgridcolor": "white",
             "startlinecolor": "#2a3f5f"
            },
            "baxis": {
             "endlinecolor": "#2a3f5f",
             "gridcolor": "white",
             "linecolor": "white",
             "minorgridcolor": "white",
             "startlinecolor": "#2a3f5f"
            },
            "type": "carpet"
           }
          ],
          "choropleth": [
           {
            "colorbar": {
             "outlinewidth": 0,
             "ticks": ""
            },
            "type": "choropleth"
           }
          ],
          "contour": [
           {
            "colorbar": {
             "outlinewidth": 0,
             "ticks": ""
            },
            "colorscale": [
             [
              0,
              "#0d0887"
             ],
             [
              0.1111111111111111,
              "#46039f"
             ],
             [
              0.2222222222222222,
              "#7201a8"
             ],
             [
              0.3333333333333333,
              "#9c179e"
             ],
             [
              0.4444444444444444,
              "#bd3786"
             ],
             [
              0.5555555555555556,
              "#d8576b"
             ],
             [
              0.6666666666666666,
              "#ed7953"
             ],
             [
              0.7777777777777778,
              "#fb9f3a"
             ],
             [
              0.8888888888888888,
              "#fdca26"
             ],
             [
              1,
              "#f0f921"
             ]
            ],
            "type": "contour"
           }
          ],
          "contourcarpet": [
           {
            "colorbar": {
             "outlinewidth": 0,
             "ticks": ""
            },
            "type": "contourcarpet"
           }
          ],
          "heatmap": [
           {
            "colorbar": {
             "outlinewidth": 0,
             "ticks": ""
            },
            "colorscale": [
             [
              0,
              "#0d0887"
             ],
             [
              0.1111111111111111,
              "#46039f"
             ],
             [
              0.2222222222222222,
              "#7201a8"
             ],
             [
              0.3333333333333333,
              "#9c179e"
             ],
             [
              0.4444444444444444,
              "#bd3786"
             ],
             [
              0.5555555555555556,
              "#d8576b"
             ],
             [
              0.6666666666666666,
              "#ed7953"
             ],
             [
              0.7777777777777778,
              "#fb9f3a"
             ],
             [
              0.8888888888888888,
              "#fdca26"
             ],
             [
              1,
              "#f0f921"
             ]
            ],
            "type": "heatmap"
           }
          ],
          "heatmapgl": [
           {
            "colorbar": {
             "outlinewidth": 0,
             "ticks": ""
            },
            "colorscale": [
             [
              0,
              "#0d0887"
             ],
             [
              0.1111111111111111,
              "#46039f"
             ],
             [
              0.2222222222222222,
              "#7201a8"
             ],
             [
              0.3333333333333333,
              "#9c179e"
             ],
             [
              0.4444444444444444,
              "#bd3786"
             ],
             [
              0.5555555555555556,
              "#d8576b"
             ],
             [
              0.6666666666666666,
              "#ed7953"
             ],
             [
              0.7777777777777778,
              "#fb9f3a"
             ],
             [
              0.8888888888888888,
              "#fdca26"
             ],
             [
              1,
              "#f0f921"
             ]
            ],
            "type": "heatmapgl"
           }
          ],
          "histogram": [
           {
            "marker": {
             "pattern": {
              "fillmode": "overlay",
              "size": 10,
              "solidity": 0.2
             }
            },
            "type": "histogram"
           }
          ],
          "histogram2d": [
           {
            "colorbar": {
             "outlinewidth": 0,
             "ticks": ""
            },
            "colorscale": [
             [
              0,
              "#0d0887"
             ],
             [
              0.1111111111111111,
              "#46039f"
             ],
             [
              0.2222222222222222,
              "#7201a8"
             ],
             [
              0.3333333333333333,
              "#9c179e"
             ],
             [
              0.4444444444444444,
              "#bd3786"
             ],
             [
              0.5555555555555556,
              "#d8576b"
             ],
             [
              0.6666666666666666,
              "#ed7953"
             ],
             [
              0.7777777777777778,
              "#fb9f3a"
             ],
             [
              0.8888888888888888,
              "#fdca26"
             ],
             [
              1,
              "#f0f921"
             ]
            ],
            "type": "histogram2d"
           }
          ],
          "histogram2dcontour": [
           {
            "colorbar": {
             "outlinewidth": 0,
             "ticks": ""
            },
            "colorscale": [
             [
              0,
              "#0d0887"
             ],
             [
              0.1111111111111111,
              "#46039f"
             ],
             [
              0.2222222222222222,
              "#7201a8"
             ],
             [
              0.3333333333333333,
              "#9c179e"
             ],
             [
              0.4444444444444444,
              "#bd3786"
             ],
             [
              0.5555555555555556,
              "#d8576b"
             ],
             [
              0.6666666666666666,
              "#ed7953"
             ],
             [
              0.7777777777777778,
              "#fb9f3a"
             ],
             [
              0.8888888888888888,
              "#fdca26"
             ],
             [
              1,
              "#f0f921"
             ]
            ],
            "type": "histogram2dcontour"
           }
          ],
          "mesh3d": [
           {
            "colorbar": {
             "outlinewidth": 0,
             "ticks": ""
            },
            "type": "mesh3d"
           }
          ],
          "parcoords": [
           {
            "line": {
             "colorbar": {
              "outlinewidth": 0,
              "ticks": ""
             }
            },
            "type": "parcoords"
           }
          ],
          "pie": [
           {
            "automargin": true,
            "type": "pie"
           }
          ],
          "scatter": [
           {
            "fillpattern": {
             "fillmode": "overlay",
             "size": 10,
             "solidity": 0.2
            },
            "type": "scatter"
           }
          ],
          "scatter3d": [
           {
            "line": {
             "colorbar": {
              "outlinewidth": 0,
              "ticks": ""
             }
            },
            "marker": {
             "colorbar": {
              "outlinewidth": 0,
              "ticks": ""
             }
            },
            "type": "scatter3d"
           }
          ],
          "scattercarpet": [
           {
            "marker": {
             "colorbar": {
              "outlinewidth": 0,
              "ticks": ""
             }
            },
            "type": "scattercarpet"
           }
          ],
          "scattergeo": [
           {
            "marker": {
             "colorbar": {
              "outlinewidth": 0,
              "ticks": ""
             }
            },
            "type": "scattergeo"
           }
          ],
          "scattergl": [
           {
            "marker": {
             "colorbar": {
              "outlinewidth": 0,
              "ticks": ""
             }
            },
            "type": "scattergl"
           }
          ],
          "scattermapbox": [
           {
            "marker": {
             "colorbar": {
              "outlinewidth": 0,
              "ticks": ""
             }
            },
            "type": "scattermapbox"
           }
          ],
          "scatterpolar": [
           {
            "marker": {
             "colorbar": {
              "outlinewidth": 0,
              "ticks": ""
             }
            },
            "type": "scatterpolar"
           }
          ],
          "scatterpolargl": [
           {
            "marker": {
             "colorbar": {
              "outlinewidth": 0,
              "ticks": ""
             }
            },
            "type": "scatterpolargl"
           }
          ],
          "scatterternary": [
           {
            "marker": {
             "colorbar": {
              "outlinewidth": 0,
              "ticks": ""
             }
            },
            "type": "scatterternary"
           }
          ],
          "surface": [
           {
            "colorbar": {
             "outlinewidth": 0,
             "ticks": ""
            },
            "colorscale": [
             [
              0,
              "#0d0887"
             ],
             [
              0.1111111111111111,
              "#46039f"
             ],
             [
              0.2222222222222222,
              "#7201a8"
             ],
             [
              0.3333333333333333,
              "#9c179e"
             ],
             [
              0.4444444444444444,
              "#bd3786"
             ],
             [
              0.5555555555555556,
              "#d8576b"
             ],
             [
              0.6666666666666666,
              "#ed7953"
             ],
             [
              0.7777777777777778,
              "#fb9f3a"
             ],
             [
              0.8888888888888888,
              "#fdca26"
             ],
             [
              1,
              "#f0f921"
             ]
            ],
            "type": "surface"
           }
          ],
          "table": [
           {
            "cells": {
             "fill": {
              "color": "#EBF0F8"
             },
             "line": {
              "color": "white"
             }
            },
            "header": {
             "fill": {
              "color": "#C8D4E3"
             },
             "line": {
              "color": "white"
             }
            },
            "type": "table"
           }
          ]
         },
         "layout": {
          "annotationdefaults": {
           "arrowcolor": "#2a3f5f",
           "arrowhead": 0,
           "arrowwidth": 1
          },
          "autotypenumbers": "strict",
          "coloraxis": {
           "colorbar": {
            "outlinewidth": 0,
            "ticks": ""
           }
          },
          "colorscale": {
           "diverging": [
            [
             0,
             "#8e0152"
            ],
            [
             0.1,
             "#c51b7d"
            ],
            [
             0.2,
             "#de77ae"
            ],
            [
             0.3,
             "#f1b6da"
            ],
            [
             0.4,
             "#fde0ef"
            ],
            [
             0.5,
             "#f7f7f7"
            ],
            [
             0.6,
             "#e6f5d0"
            ],
            [
             0.7,
             "#b8e186"
            ],
            [
             0.8,
             "#7fbc41"
            ],
            [
             0.9,
             "#4d9221"
            ],
            [
             1,
             "#276419"
            ]
           ],
           "sequential": [
            [
             0,
             "#0d0887"
            ],
            [
             0.1111111111111111,
             "#46039f"
            ],
            [
             0.2222222222222222,
             "#7201a8"
            ],
            [
             0.3333333333333333,
             "#9c179e"
            ],
            [
             0.4444444444444444,
             "#bd3786"
            ],
            [
             0.5555555555555556,
             "#d8576b"
            ],
            [
             0.6666666666666666,
             "#ed7953"
            ],
            [
             0.7777777777777778,
             "#fb9f3a"
            ],
            [
             0.8888888888888888,
             "#fdca26"
            ],
            [
             1,
             "#f0f921"
            ]
           ],
           "sequentialminus": [
            [
             0,
             "#0d0887"
            ],
            [
             0.1111111111111111,
             "#46039f"
            ],
            [
             0.2222222222222222,
             "#7201a8"
            ],
            [
             0.3333333333333333,
             "#9c179e"
            ],
            [
             0.4444444444444444,
             "#bd3786"
            ],
            [
             0.5555555555555556,
             "#d8576b"
            ],
            [
             0.6666666666666666,
             "#ed7953"
            ],
            [
             0.7777777777777778,
             "#fb9f3a"
            ],
            [
             0.8888888888888888,
             "#fdca26"
            ],
            [
             1,
             "#f0f921"
            ]
           ]
          },
          "colorway": [
           "#636efa",
           "#EF553B",
           "#00cc96",
           "#ab63fa",
           "#FFA15A",
           "#19d3f3",
           "#FF6692",
           "#B6E880",
           "#FF97FF",
           "#FECB52"
          ],
          "font": {
           "color": "#2a3f5f"
          },
          "geo": {
           "bgcolor": "white",
           "lakecolor": "white",
           "landcolor": "#E5ECF6",
           "showlakes": true,
           "showland": true,
           "subunitcolor": "white"
          },
          "hoverlabel": {
           "align": "left"
          },
          "hovermode": "closest",
          "mapbox": {
           "style": "light"
          },
          "paper_bgcolor": "white",
          "plot_bgcolor": "#E5ECF6",
          "polar": {
           "angularaxis": {
            "gridcolor": "white",
            "linecolor": "white",
            "ticks": ""
           },
           "bgcolor": "#E5ECF6",
           "radialaxis": {
            "gridcolor": "white",
            "linecolor": "white",
            "ticks": ""
           }
          },
          "scene": {
           "xaxis": {
            "backgroundcolor": "#E5ECF6",
            "gridcolor": "white",
            "gridwidth": 2,
            "linecolor": "white",
            "showbackground": true,
            "ticks": "",
            "zerolinecolor": "white"
           },
           "yaxis": {
            "backgroundcolor": "#E5ECF6",
            "gridcolor": "white",
            "gridwidth": 2,
            "linecolor": "white",
            "showbackground": true,
            "ticks": "",
            "zerolinecolor": "white"
           },
           "zaxis": {
            "backgroundcolor": "#E5ECF6",
            "gridcolor": "white",
            "gridwidth": 2,
            "linecolor": "white",
            "showbackground": true,
            "ticks": "",
            "zerolinecolor": "white"
           }
          },
          "shapedefaults": {
           "line": {
            "color": "#2a3f5f"
           }
          },
          "ternary": {
           "aaxis": {
            "gridcolor": "white",
            "linecolor": "white",
            "ticks": ""
           },
           "baxis": {
            "gridcolor": "white",
            "linecolor": "white",
            "ticks": ""
           },
           "bgcolor": "#E5ECF6",
           "caxis": {
            "gridcolor": "white",
            "linecolor": "white",
            "ticks": ""
           }
          },
          "title": {
           "x": 0.05
          },
          "xaxis": {
           "automargin": true,
           "gridcolor": "white",
           "linecolor": "white",
           "ticks": "",
           "title": {
            "standoff": 15
           },
           "zerolinecolor": "white",
           "zerolinewidth": 2
          },
          "yaxis": {
           "automargin": true,
           "gridcolor": "white",
           "linecolor": "white",
           "ticks": "",
           "title": {
            "standoff": 15
           },
           "zerolinecolor": "white",
           "zerolinewidth": 2
          }
         }
        },
        "title": {
         "text": "Income vs Rent and Buying Price for Cities"
        },
        "width": 1000,
        "xaxis": {
         "anchor": "y",
         "autorange": true,
         "domain": [
          0,
          0.2888888888888889
         ],
         "range": [
          -0.4336225812886495,
          5.43362258128865
         ],
         "title": {
          "text": "Year"
         },
         "type": "category"
        },
        "xaxis2": {
         "anchor": "y2",
         "autorange": true,
         "domain": [
          0.35555555555555557,
          0.6444444444444445
         ],
         "range": [
          -0.4336225812886495,
          5.43362258128865
         ],
         "type": "category"
        },
        "xaxis3": {
         "anchor": "y3",
         "autorange": true,
         "domain": [
          0.7111111111111111,
          1
         ],
         "range": [
          -0.43362258128864956,
          5.43362258128865
         ],
         "type": "category"
        },
        "yaxis": {
         "anchor": "x",
         "autorange": true,
         "domain": [
          0,
          1
         ],
         "range": [
          681.8688586956521,
          3289.4411413043476
         ],
         "title": {
          "text": "Amount (€)"
         },
         "type": "linear"
        },
        "yaxis2": {
         "anchor": "x2",
         "autorange": true,
         "domain": [
          0,
          1
         ],
         "matches": "y",
         "range": [
          681.8688586956521,
          3289.4411413043476
         ],
         "showticklabels": false,
         "type": "linear"
        },
        "yaxis3": {
         "anchor": "x3",
         "autorange": true,
         "domain": [
          0,
          1
         ],
         "matches": "y",
         "range": [
          681.8688586956521,
          3289.4411413043476
         ],
         "showticklabels": false,
         "type": "linear"
        }
       }
      },
      "image/png": "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",
      "text/html": [
       "<div>                            <div id=\"93bb811c-33f4-4e6d-9cb8-e143295309b7\" class=\"plotly-graph-div\" style=\"height:600px; width:1000px;\"></div>            <script type=\"text/javascript\">                require([\"plotly\"], function(Plotly) {                    window.PLOTLYENV=window.PLOTLYENV || {};                                    if (document.getElementById(\"93bb811c-33f4-4e6d-9cb8-e143295309b7\")) {                    Plotly.newPlot(                        \"93bb811c-33f4-4e6d-9cb8-e143295309b7\",                        [{\"line\":{\"color\":\"blue\",\"width\":2},\"marker\":{\"color\":\"blue\",\"size\":8},\"mode\":\"lines+markers\",\"name\":\"lisbon Rent\",\"x\":[\"2019\",\"2020\",\"2021\",\"2022\",\"2023\",\"2024\"],\"y\":[894.0,843.29,868.3,1024.46,1259.74,1413.16],\"type\":\"scatter\",\"xaxis\":\"x\",\"yaxis\":\"y\"},{\"line\":{\"color\":\"green\",\"width\":2},\"marker\":{\"color\":\"green\",\"size\":8},\"mode\":\"lines+markers\",\"name\":\"lisbon Buying Price\",\"x\":[\"2019\",\"2020\",\"2021\",\"2022\",\"2023\",\"2024\"],\"y\":[940.91,958.12,1054.79,1321.22,1137.77,1295.57],\"type\":\"scatter\",\"xaxis\":\"x\",\"yaxis\":\"y\"},{\"line\":{\"color\":\"red\",\"width\":2},\"marker\":{\"color\":\"red\",\"size\":8},\"mode\":\"lines+markers\",\"name\":\"lisbon Income\",\"x\":[\"2019\",\"2020\",\"2021\",\"2022\",\"2023\",\"2024\"],\"y\":[931.03,1028.22,1034.12,1062.71,1169.53,1235.38],\"type\":\"scatter\",\"xaxis\":\"x\",\"yaxis\":\"y\"},{\"line\":{\"color\":\"blue\",\"width\":2},\"marker\":{\"color\":\"blue\",\"size\":8},\"mode\":\"lines+markers\",\"name\":\"berlin Rent\",\"x\":[\"2019\",\"2020\",\"2021\",\"2022\",\"2023\",\"2024\"],\"y\":[905.53,889.28,1036.35,1237.16,1276.16,1186.62],\"type\":\"scatter\",\"xaxis\":\"x2\",\"yaxis\":\"y2\"},{\"line\":{\"color\":\"green\",\"width\":2},\"marker\":{\"color\":\"green\",\"size\":8},\"mode\":\"lines+markers\",\"name\":\"berlin Buying Price\",\"x\":[\"2019\",\"2020\",\"2021\",\"2022\",\"2023\",\"2024\"],\"y\":[1522.45,1472.3,1689.52,2071.55,2003.01,1937.36],\"type\":\"scatter\",\"xaxis\":\"x2\",\"yaxis\":\"y2\"},{\"line\":{\"color\":\"red\",\"width\":2},\"marker\":{\"color\":\"red\",\"size\":8},\"mode\":\"lines+markers\",\"name\":\"berlin Income\",\"x\":[\"2019\",\"2020\",\"2021\",\"2022\",\"2023\",\"2024\"],\"y\":[2360.33,2397.59,2971.54,2987.3,3128.02,2952.47],\"type\":\"scatter\",\"xaxis\":\"x2\",\"yaxis\":\"y2\"},{\"line\":{\"color\":\"blue\",\"width\":2},\"marker\":{\"color\":\"blue\",\"size\":8},\"mode\":\"lines+markers\",\"name\":\"paris Rent\",\"x\":[\"2019\",\"2020\",\"2021\",\"2022\",\"2023\",\"2024\"],\"y\":[1201.81,1222.21,1256.88,1273.16,1333.65,1258.63],\"type\":\"scatter\",\"xaxis\":\"x3\",\"yaxis\":\"y3\"},{\"line\":{\"color\":\"green\",\"width\":2},\"marker\":{\"color\":\"green\",\"size\":8},\"mode\":\"lines+markers\",\"name\":\"paris Buying Price\",\"x\":[\"2019\",\"2020\",\"2021\",\"2022\",\"2023\",\"2024\"],\"y\":[1918.05,2032.62,2086.78,2076.73,1974.07,2055.01],\"type\":\"scatter\",\"xaxis\":\"x3\",\"yaxis\":\"y3\"},{\"line\":{\"color\":\"red\",\"width\":2},\"marker\":{\"color\":\"red\",\"size\":8},\"mode\":\"lines+markers\",\"name\":\"paris Income\",\"x\":[\"2019\",\"2020\",\"2021\",\"2022\",\"2023\",\"2024\"],\"y\":[2308.96,2510.77,2791.18,2601.82,2846.41,3076.78],\"type\":\"scatter\",\"xaxis\":\"x3\",\"yaxis\":\"y3\"}],                        {\"template\":{\"data\":{\"histogram2dcontour\":[{\"type\":\"histogram2dcontour\",\"colorbar\":{\"outlinewidth\":0,\"ticks\":\"\"},\"colorscale\":[[0.0,\"#0d0887\"],[0.1111111111111111,\"#46039f\"],[0.2222222222222222,\"#7201a8\"],[0.3333333333333333,\"#9c179e\"],[0.4444444444444444,\"#bd3786\"],[0.5555555555555556,\"#d8576b\"],[0.6666666666666666,\"#ed7953\"],[0.7777777777777778,\"#fb9f3a\"],[0.8888888888888888,\"#fdca26\"],[1.0,\"#f0f921\"]]}],\"choropleth\":[{\"type\":\"choropleth\",\"colorbar\":{\"outlinewidth\":0,\"ticks\":\"\"}}],\"histogram2d\":[{\"type\":\"histogram2d\",\"colorbar\":{\"outlinewidth\":0,\"ticks\":\"\"},\"colorscale\":[[0.0,\"#0d0887\"],[0.1111111111111111,\"#46039f\"],[0.2222222222222222,\"#7201a8\"],[0.3333333333333333,\"#9c179e\"],[0.4444444444444444,\"#bd3786\"],[0.5555555555555556,\"#d8576b\"],[0.6666666666666666,\"#ed7953\"],[0.7777777777777778,\"#fb9f3a\"],[0.8888888888888888,\"#fdca26\"],[1.0,\"#f0f921\"]]}],\"heatmap\":[{\"type\":\"heatmap\",\"colorbar\":{\"outlinewidth\":0,\"ticks\":\"\"},\"colorscale\":[[0.0,\"#0d0887\"],[0.1111111111111111,\"#46039f\"],[0.2222222222222222,\"#7201a8\"],[0.3333333333333333,\"#9c179e\"],[0.4444444444444444,\"#bd3786\"],[0.5555555555555556,\"#d8576b\"],[0.6666666666666666,\"#ed7953\"],[0.7777777777777778,\"#fb9f3a\"],[0.8888888888888888,\"#fdca26\"],[1.0,\"#f0f921\"]]}],\"heatmapgl\":[{\"type\":\"heatmapgl\",\"colorbar\":{\"outlinewidth\":0,\"ticks\":\"\"},\"colorscale\":[[0.0,\"#0d0887\"],[0.1111111111111111,\"#46039f\"],[0.2222222222222222,\"#7201a8\"],[0.3333333333333333,\"#9c179e\"],[0.4444444444444444,\"#bd3786\"],[0.5555555555555556,\"#d8576b\"],[0.6666666666666666,\"#ed7953\"],[0.7777777777777778,\"#fb9f3a\"],[0.8888888888888888,\"#fdca26\"],[1.0,\"#f0f921\"]]}],\"contourcarpet\":[{\"type\":\"contourcarpet\",\"colorbar\":{\"outlinewidth\":0,\"ticks\":\"\"}}],\"contour\":[{\"type\":\"contour\",\"colorbar\":{\"outlinewidth\":0,\"ticks\":\"\"},\"colorscale\":[[0.0,\"#0d0887\"],[0.1111111111111111,\"#46039f\"],[0.2222222222222222,\"#7201a8\"],[0.3333333333333333,\"#9c179e\"],[0.4444444444444444,\"#bd3786\"],[0.5555555555555556,\"#d8576b\"],[0.6666666666666666,\"#ed7953\"],[0.7777777777777778,\"#fb9f3a\"],[0.8888888888888888,\"#fdca26\"],[1.0,\"#f0f921\"]]}],\"surface\":[{\"type\":\"surface\",\"colorbar\":{\"outlinewidth\":0,\"ticks\":\"\"},\"colorscale\":[[0.0,\"#0d0887\"],[0.1111111111111111,\"#46039f\"],[0.2222222222222222,\"#7201a8\"],[0.3333333333333333,\"#9c179e\"],[0.4444444444444444,\"#bd3786\"],[0.5555555555555556,\"#d8576b\"],[0.6666666666666666,\"#ed7953\"],[0.7777777777777778,\"#fb9f3a\"],[0.8888888888888888,\"#fdca26\"],[1.0,\"#f0f921\"]]}],\"mesh3d\":[{\"type\":\"mesh3d\",\"colorbar\":{\"outlinewidth\":0,\"ticks\":\"\"}}],\"scatter\":[{\"fillpattern\":{\"fillmode\":\"overlay\",\"size\":10,\"solidity\":0.2},\"type\":\"scatter\"}],\"parcoords\":[{\"type\":\"parcoords\",\"line\":{\"colorbar\":{\"outlinewidth\":0,\"ticks\":\"\"}}}],\"scatterpolargl\":[{\"type\":\"scatterpolargl\",\"marker\":{\"colorbar\":{\"outlinewidth\":0,\"ticks\":\"\"}}}],\"bar\":[{\"error_x\":{\"color\":\"#2a3f5f\"},\"error_y\":{\"color\":\"#2a3f5f\"},\"marker\":{\"line\":{\"color\":\"#E5ECF6\",\"width\":0.5},\"pattern\":{\"fillmode\":\"overlay\",\"size\":10,\"solidity\":0.2}},\"type\":\"bar\"}],\"scattergeo\":[{\"type\":\"scattergeo\",\"marker\":{\"colorbar\":{\"outlinewidth\":0,\"ticks\":\"\"}}}],\"scatterpolar\":[{\"type\":\"scatterpolar\",\"marker\":{\"colorbar\":{\"outlinewidth\":0,\"ticks\":\"\"}}}],\"histogram\":[{\"marker\":{\"pattern\":{\"fillmode\":\"overlay\",\"size\":10,\"solidity\":0.2}},\"type\":\"histogram\"}],\"scattergl\":[{\"type\":\"scattergl\",\"marker\":{\"colorbar\":{\"outlinewidth\":0,\"ticks\":\"\"}}}],\"scatter3d\":[{\"type\":\"scatter3d\",\"line\":{\"colorbar\":{\"outlinewidth\":0,\"ticks\":\"\"}},\"marker\":{\"colorbar\":{\"outlinewidth\":0,\"ticks\":\"\"}}}],\"scattermapbox\":[{\"type\":\"scattermapbox\",\"marker\":{\"colorbar\":{\"outlinewidth\":0,\"ticks\":\"\"}}}],\"scatterternary\":[{\"type\":\"scatterternary\",\"marker\":{\"colorbar\":{\"outlinewidth\":0,\"ticks\":\"\"}}}],\"scattercarpet\":[{\"type\":\"scattercarpet\",\"marker\":{\"colorbar\":{\"outlinewidth\":0,\"ticks\":\"\"}}}],\"carpet\":[{\"aaxis\":{\"endlinecolor\":\"#2a3f5f\",\"gridcolor\":\"white\",\"linecolor\":\"white\",\"minorgridcolor\":\"white\",\"startlinecolor\":\"#2a3f5f\"},\"baxis\":{\"endlinecolor\":\"#2a3f5f\",\"gridcolor\":\"white\",\"linecolor\":\"white\",\"minorgridcolor\":\"white\",\"startlinecolor\":\"#2a3f5f\"},\"type\":\"carpet\"}],\"table\":[{\"cells\":{\"fill\":{\"color\":\"#EBF0F8\"},\"line\":{\"color\":\"white\"}},\"header\":{\"fill\":{\"color\":\"#C8D4E3\"},\"line\":{\"color\":\"white\"}},\"type\":\"table\"}],\"barpolar\":[{\"marker\":{\"line\":{\"color\":\"#E5ECF6\",\"width\":0.5},\"pattern\":{\"fillmode\":\"overlay\",\"size\":10,\"solidity\":0.2}},\"type\":\"barpolar\"}],\"pie\":[{\"automargin\":true,\"type\":\"pie\"}]},\"layout\":{\"autotypenumbers\":\"strict\",\"colorway\":[\"#636efa\",\"#EF553B\",\"#00cc96\",\"#ab63fa\",\"#FFA15A\",\"#19d3f3\",\"#FF6692\",\"#B6E880\",\"#FF97FF\",\"#FECB52\"],\"font\":{\"color\":\"#2a3f5f\"},\"hovermode\":\"closest\",\"hoverlabel\":{\"align\":\"left\"},\"paper_bgcolor\":\"white\",\"plot_bgcolor\":\"#E5ECF6\",\"polar\":{\"bgcolor\":\"#E5ECF6\",\"angularaxis\":{\"gridcolor\":\"white\",\"linecolor\":\"white\",\"ticks\":\"\"},\"radialaxis\":{\"gridcolor\":\"white\",\"linecolor\":\"white\",\"ticks\":\"\"}},\"ternary\":{\"bgcolor\":\"#E5ECF6\",\"aaxis\":{\"gridcolor\":\"white\",\"linecolor\":\"white\",\"ticks\":\"\"},\"baxis\":{\"gridcolor\":\"white\",\"linecolor\":\"white\",\"ticks\":\"\"},\"caxis\":{\"gridcolor\":\"white\",\"linecolor\":\"white\",\"ticks\":\"\"}},\"coloraxis\":{\"colorbar\":{\"outlinewidth\":0,\"ticks\":\"\"}},\"colorscale\":{\"sequential\":[[0.0,\"#0d0887\"],[0.1111111111111111,\"#46039f\"],[0.2222222222222222,\"#7201a8\"],[0.3333333333333333,\"#9c179e\"],[0.4444444444444444,\"#bd3786\"],[0.5555555555555556,\"#d8576b\"],[0.6666666666666666,\"#ed7953\"],[0.7777777777777778,\"#fb9f3a\"],[0.8888888888888888,\"#fdca26\"],[1.0,\"#f0f921\"]],\"sequentialminus\":[[0.0,\"#0d0887\"],[0.1111111111111111,\"#46039f\"],[0.2222222222222222,\"#7201a8\"],[0.3333333333333333,\"#9c179e\"],[0.4444444444444444,\"#bd3786\"],[0.5555555555555556,\"#d8576b\"],[0.6666666666666666,\"#ed7953\"],[0.7777777777777778,\"#fb9f3a\"],[0.8888888888888888,\"#fdca26\"],[1.0,\"#f0f921\"]],\"diverging\":[[0,\"#8e0152\"],[0.1,\"#c51b7d\"],[0.2,\"#de77ae\"],[0.3,\"#f1b6da\"],[0.4,\"#fde0ef\"],[0.5,\"#f7f7f7\"],[0.6,\"#e6f5d0\"],[0.7,\"#b8e186\"],[0.8,\"#7fbc41\"],[0.9,\"#4d9221\"],[1,\"#276419\"]]},\"xaxis\":{\"gridcolor\":\"white\",\"linecolor\":\"white\",\"ticks\":\"\",\"title\":{\"standoff\":15},\"zerolinecolor\":\"white\",\"automargin\":true,\"zerolinewidth\":2},\"yaxis\":{\"gridcolor\":\"white\",\"linecolor\":\"white\",\"ticks\":\"\",\"title\":{\"standoff\":15},\"zerolinecolor\":\"white\",\"automargin\":true,\"zerolinewidth\":2},\"scene\":{\"xaxis\":{\"backgroundcolor\":\"#E5ECF6\",\"gridcolor\":\"white\",\"linecolor\":\"white\",\"showbackground\":true,\"ticks\":\"\",\"zerolinecolor\":\"white\",\"gridwidth\":2},\"yaxis\":{\"backgroundcolor\":\"#E5ECF6\",\"gridcolor\":\"white\",\"linecolor\":\"white\",\"showbackground\":true,\"ticks\":\"\",\"zerolinecolor\":\"white\",\"gridwidth\":2},\"zaxis\":{\"backgroundcolor\":\"#E5ECF6\",\"gridcolor\":\"white\",\"linecolor\":\"white\",\"showbackground\":true,\"ticks\":\"\",\"zerolinecolor\":\"white\",\"gridwidth\":2}},\"shapedefaults\":{\"line\":{\"color\":\"#2a3f5f\"}},\"annotationdefaults\":{\"arrowcolor\":\"#2a3f5f\",\"arrowhead\":0,\"arrowwidth\":1},\"geo\":{\"bgcolor\":\"white\",\"landcolor\":\"#E5ECF6\",\"subunitcolor\":\"white\",\"showland\":true,\"showlakes\":true,\"lakecolor\":\"white\"},\"title\":{\"x\":0.05},\"mapbox\":{\"style\":\"light\"}}},\"xaxis\":{\"anchor\":\"y\",\"domain\":[0.0,0.2888888888888889],\"title\":{\"text\":\"Year\"}},\"yaxis\":{\"anchor\":\"x\",\"domain\":[0.0,1.0],\"title\":{\"text\":\"Amount (\\u20ac)\"}},\"xaxis2\":{\"anchor\":\"y2\",\"domain\":[0.35555555555555557,0.6444444444444445]},\"yaxis2\":{\"anchor\":\"x2\",\"domain\":[0.0,1.0],\"matches\":\"y\",\"showticklabels\":false},\"xaxis3\":{\"anchor\":\"y3\",\"domain\":[0.7111111111111111,1.0]},\"yaxis3\":{\"anchor\":\"x3\",\"domain\":[0.0,1.0],\"matches\":\"y\",\"showticklabels\":false},\"annotations\":[{\"font\":{\"size\":16},\"showarrow\":false,\"text\":\"Lisbon\",\"x\":0.14444444444444446,\"xanchor\":\"center\",\"xref\":\"paper\",\"y\":1.0,\"yanchor\":\"bottom\",\"yref\":\"paper\"},{\"font\":{\"size\":16},\"showarrow\":false,\"text\":\"Berlin\",\"x\":0.5,\"xanchor\":\"center\",\"xref\":\"paper\",\"y\":1.0,\"yanchor\":\"bottom\",\"yref\":\"paper\"},{\"font\":{\"size\":16},\"showarrow\":false,\"text\":\"Paris\",\"x\":0.8555555555555556,\"xanchor\":\"center\",\"xref\":\"paper\",\"y\":1.0,\"yanchor\":\"bottom\",\"yref\":\"paper\"}],\"title\":{\"text\":\"Income vs Rent and Buying Price for Cities\"},\"showlegend\":true,\"height\":600,\"width\":1000},                        {\"responsive\": true}                    ).then(function(){\n",
       "                            \n",
       "var gd = document.getElementById('93bb811c-33f4-4e6d-9cb8-e143295309b7');\n",
       "var x = new MutationObserver(function (mutations, observer) {{\n",
       "        var display = window.getComputedStyle(gd).display;\n",
       "        if (!display || display === 'none') {{\n",
       "            console.log([gd, 'removed!']);\n",
       "            Plotly.purge(gd);\n",
       "            observer.disconnect();\n",
       "        }}\n",
       "}});\n",
       "\n",
       "// Listen for the removal of the full notebook cells\n",
       "var notebookContainer = gd.closest('#notebook-container');\n",
       "if (notebookContainer) {{\n",
       "    x.observe(notebookContainer, {childList: true});\n",
       "}}\n",
       "\n",
       "// Listen for the clearing of the current output cell\n",
       "var outputEl = gd.closest('.output');\n",
       "if (outputEl) {{\n",
       "    x.observe(outputEl, {childList: true});\n",
       "}}\n",
       "\n",
       "                        })                };                });            </script>        </div>"
      ]
     },
     "metadata": {},
     "output_type": "display_data"
    }
   ],
   "source": [
<<<<<<< HEAD
=======
>>>>>>> c14b068ba8e4d21d43b669f0467a1258d3beece7
>>>>>>> main
    "# Strip the '1br' or '1 br' from city names in buying_one_br for matching\n",
    "buying_one_br[\"city\"] = buying_one_br[\"city\"].str.extract(r'([a-zA-Z]+)')[0].str.lower()\n",
    "\n",
    "# Create a subplot grid: 1 row, 3 columns (one for each city)\n",
    "fig = make_subplots(\n",
    "    rows=1, cols=3, \n",
    "    subplot_titles=[\"Lisbon\", \"Berlin\", \"Paris\"], \n",
    "    shared_yaxes=True,\n",
    "    vertical_spacing=0.1\n",
    ")\n",
    "\n",
    "# Function to plot the data for each city\n",
    "def plot_city_data(city_name, row, col):\n",
    "    # Filter the data for the specific city\n",
    "    rent_data = monthly_salary[(monthly_salary['city'] == city_name) & (monthly_salary['Unnamed: 0'] == '1 bed apartment (rent)')]\n",
    "    salary_data = monthly_salary[(monthly_salary['city'] == city_name) & (monthly_salary['Unnamed: 0'] == 'Av salary (after tax)')]\n",
    "    buying_data = buying_one_br[buying_one_br['city'] == f\"{city_name}\"]\n",
    "\n",
    "    # Extract year columns and corresponding values\n",
    "    years = ['2019', '2020', '2021', '2022', '2023', '2024']\n",
    "    rent_values = rent_data[years].values.flatten()\n",
    "    salary_values = salary_data[years].values.flatten()\n",
    "    buying_values = buying_data[years].values.flatten()\n",
    "\n",
    "    # Plot rent vs salary for the city\n",
    "    fig.add_trace(go.Scatter(\n",
    "        x=years, y=rent_values, mode='lines+markers', name=f'{city_name} Rent',\n",
    "        line=dict(color='blue', width=2),\n",
    "        marker=dict(size=8, color='blue')\n",
    "    ), row=row, col=col)\n",
    "    \n",
    "    # Plot buying price vs salary for the city\n",
    "    fig.add_trace(go.Scatter(\n",
    "        x=years, y=buying_values, mode='lines+markers', name=f'{city_name} Buying Price',\n",
    "        line=dict(color='green', width=2),\n",
    "        marker=dict(size=8, color='green')\n",
    "    ), row=row, col=col)\n",
    "    \n",
    "    # Plot income (after tax) for the city\n",
    "    fig.add_trace(go.Scatter(\n",
    "        x=years, y=salary_values, mode='lines+markers', name=f'{city_name} Income',\n",
    "        line=dict(color='red', width=2),\n",
    "        marker=dict(size=8, color='red')\n",
    "    ), row=row, col=col)\n",
    "\n",
    "# Plot data for each city in the respective subplot\n",
    "plot_city_data('lisbon', 1, 1)\n",
    "plot_city_data('berlin', 1, 2)\n",
    "plot_city_data('paris', 1, 3)\n",
    "\n",
    "# Update layout of the figure\n",
    "fig.update_layout(\n",
    "    title=\"Income vs Rent and Buying Price for Cities\",\n",
    "    xaxis_title=\"Year\",\n",
    "    yaxis_title=\"Amount (€)\",\n",
    "    showlegend=True,\n",
    "    height=600,\n",
    "    width=1000,\n",
    ")\n",
    "\n",
    "# Show the plot\n",
    "fig.show()\n"
   ]
<<<<<<< HEAD
=======
<<<<<<< HEAD
  },
  {
   "cell_type": "code",
   "execution_count": null,
   "id": "7f881f0e-1f0b-4bc4-b7e0-e105d2c82cb3",
   "metadata": {},
   "outputs": [],
   "source": [
    "# Strip the '1br' or '1 br' from city names in buying_one_br for matching\n",
    "buying_one_br[\"city\"] = buying_one_br[\"city\"].str.extract(r'([a-zA-Z]+)')[0].str.lower()\n",
    "\n",
    "# Create a subplot grid: 1 row, 3 columns (one for each city)\n",
    "fig = make_subplots(\n",
    "    rows=1, cols=3, \n",
    "    subplot_titles=[\"Lisbon\", \"Berlin\", \"Paris\"], \n",
    "    shared_yaxes=True,\n",
    "    vertical_spacing=0.1\n",
    ")\n",
    "\n",
    "# Function to plot the data for each city\n",
    "def plot_city_data(city_name, row, col):\n",
    "    # Filter the data for the specific city\n",
    "    rent_data = monthly_salary[(monthly_salary['city'] == city_name) & (monthly_salary['Unnamed: 0'] == '1 bed apartment (rent)')]\n",
    "    salary_data = monthly_salary[(monthly_salary['city'] == city_name) & (monthly_salary['Unnamed: 0'] == 'Av salary (after tax)')]\n",
    "    buying_data = buying_one_br[buying_one_br['city'] == f\"{city_name}\"]\n",
    "\n",
    "    # Extract year columns and corresponding values\n",
    "    years = ['2019', '2020', '2021', '2022', '2023', '2024']\n",
    "    rent_values = rent_data[years].values.flatten()\n",
    "    salary_values = salary_data[years].values.flatten()\n",
    "    buying_values = buying_data[years].values.flatten()\n",
    "\n",
    "    # Plot rent vs salary for the city\n",
    "    fig.add_trace(go.Scatter(\n",
    "        x=years, y=rent_values, mode='lines+markers', name=f'{city_name} Rent',\n",
    "        line=dict(color='blue', width=2),\n",
    "        marker=dict(size=8, color='blue')\n",
    "    ), row=row, col=col)\n",
    "    \n",
    "    # Plot buying price vs salary for the city\n",
    "    fig.add_trace(go.Scatter(\n",
    "        x=years, y=buying_values, mode='lines+markers', name=f'{city_name} Buying Price',\n",
    "        line=dict(color='green', width=2),\n",
    "        marker=dict(size=8, color='green')\n",
    "    ), row=row, col=col)\n",
    "    \n",
    "    # Plot income (after tax) for the city\n",
    "    fig.add_trace(go.Scatter(\n",
    "        x=years, y=salary_values, mode='lines+markers', name=f'{city_name} Income',\n",
    "        line=dict(color='red', width=2),\n",
    "        marker=dict(size=8, color='red')\n",
    "    ), row=row, col=col)\n",
    "\n",
    "# Plot data for each city in the respective subplot\n",
    "plot_city_data('lisbon', 1, 1)\n",
    "plot_city_data('berlin', 1, 2)\n",
    "plot_city_data('paris', 1, 3)\n",
    "\n",
    "# Update layout of the figure\n",
    "fig.update_layout(\n",
    "    title=\"Income vs Rent and Buying Price for Cities\",\n",
    "    xaxis_title=\"Year\",\n",
    "    yaxis_title=\"Amount (€)\",\n",
    "    showlegend=True,\n",
    "    height=600,\n",
    "    width=1000,\n",
    ")\n",
    "\n",
    "# Show the plot\n",
    "fig.show()"
   ]
=======
>>>>>>> c14b068ba8e4d21d43b669f0467a1258d3beece7
>>>>>>> main
  }
 ],
 "metadata": {
  "kernelspec": {
   "display_name": "venv",
   "language": "python",
   "name": "venv"
  },
  "language_info": {
   "codemirror_mode": {
    "name": "ipython",
    "version": 3
   },
   "file_extension": ".py",
   "mimetype": "text/x-python",
   "name": "python",
   "nbconvert_exporter": "python",
   "pygments_lexer": "ipython3",
   "version": "3.13.0"
  }
 },
 "nbformat": 4,
 "nbformat_minor": 5
}
